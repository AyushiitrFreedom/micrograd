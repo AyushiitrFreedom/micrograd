{
 "cells": [
  {
   "cell_type": "code",
   "execution_count": 1,
   "id": "abe2e5d3-120a-4589-b471-8c6ac464a9e4",
   "metadata": {},
   "outputs": [],
   "source": [
    "from graphviz import Digraph\n",
    "import numpy as np\n",
    "import math"
   ]
  },
  {
   "cell_type": "code",
   "execution_count": 2,
   "id": "faeac01c-79c8-455d-877e-35560eafd072",
   "metadata": {},
   "outputs": [],
   "source": [
    "class Value:\n",
    "    def __init__(self , data , _children=(),_op = '',label=''):\n",
    "        self.data = data\n",
    "        self._prev = set(_children)\n",
    "        self._op = _op \n",
    "        self.label = label\n",
    "        self.grad = 0\n",
    "\n",
    "    def __repr__(self):\n",
    "        return f\"Value (data={self.data})\"\n",
    "\n",
    "    def __add__(self,other):\n",
    "        other = other if isinstance(other, Value) else Value(other)\n",
    "        return Value(self.data + other.data,(self,other),'+')\n",
    "\n",
    "    def __sub__(self,other):\n",
    "        other = other if isinstance(other, Value) else Value(other)\n",
    "        return Value(self.data - other.data,(self,other),'-')\n",
    "\n",
    "    def __mul__(self,other):\n",
    "        return Value(self.data * other.data,(self,other),'*')\n",
    "\n",
    "    def tanh(self):\n",
    "        x = self.data\n",
    "        t = (math.exp(2*x)-1)/(math.exp(2*x)+1)\n",
    "        out = Value(t , (self,) , 'tanh')\n",
    "        return out\n",
    "\n",
    "    def __pow__(self, other):\n",
    "        out = Value(self.data**other, (self,), f'**{other}')\n",
    "        return out\n",
    "        \n",
    "        \n",
    "\n",
    "    def der(self,other):\n",
    "        if self == other:\n",
    "            return 1\n",
    "\n",
    "        if self._op == '':\n",
    "            return 0\n",
    "\n",
    "        if self._op == \"-\":\n",
    "                        return (list(self._prev)[0].der(other) - list(self._prev)[1].der(other))\n",
    "            \n",
    "        if self._op == \"+\":\n",
    "                        return (list(self._prev)[0].der(other) + list(self._prev)[1].der(other))\n",
    "        if self._op == \"*\":\n",
    "            \n",
    "            return (list(self._prev)[1].data * list(self._prev)[0].der(other) + list(self._prev)[0].data * list(self._prev)[1].der(other))\n",
    "\n",
    "        if self._op.startswith('**'):\n",
    "            return (list(self._prev)[0].data * int(self._op[2:]))*list(self._prev)[0].der(other)\n",
    "\n",
    "        else:\n",
    "            return (1-(self.data)**2)*(list(self._prev)[0].der(other))\n",
    "\n",
    "\n",
    "    def setgrad(self,initial_var=None):\n",
    "        if initial_var is None:\n",
    "            self.grad = 1\n",
    "            initial_var = self\n",
    "        for i in self._prev:\n",
    "            i.grad = initial_var.der(i)\n",
    "            if i._prev:\n",
    "                i.setgrad(initial_var)\n",
    "        \n",
    "\n",
    "\n",
    "\n",
    "a = Value(0.5, label = 'a')\n",
    "b = Value(3, label = 'b')\n",
    "c = b**4\n",
    "d = a.tanh()\n",
    "f = d + b"
   ]
  },
  {
   "cell_type": "code",
   "execution_count": 3,
   "id": "03f1bd2f-c295-4486-85bb-f2546823815a",
   "metadata": {},
   "outputs": [
    {
     "name": "stdout",
     "output_type": "stream",
     "text": [
      "3\n"
     ]
    },
    {
     "data": {
      "text/plain": [
       "Value (data=80.4)"
      ]
     },
     "execution_count": 3,
     "metadata": {},
     "output_type": "execute_result"
    }
   ],
   "source": [
    "k = a.data\n",
    "j = b.data\n",
    "print(j)\n",
    "c.data+= -0.2 * b.data\n",
    "c"
   ]
  },
  {
   "cell_type": "code",
   "execution_count": 4,
   "id": "f953d33d-7b01-4d5f-a5b7-0b89202c3a6f",
   "metadata": {},
   "outputs": [],
   "source": [
    "def trace(root):\n",
    "    nodes, edges = set(), set()\n",
    "    def build(v):\n",
    "        if v not in nodes:\n",
    "            nodes.add(v)\n",
    "            for child in v._prev:\n",
    "                edges.add((child, v))\n",
    "                build(child)\n",
    "    build(root)\n",
    "    return nodes, edges\n",
    "\n",
    "def draw_dot(root, format='svg', rankdir='LR'):\n",
    "    \"\"\"\n",
    "    format: png | svg | ...\n",
    "    rankdir: TB (top to bottom graph) | LR (left to right)\n",
    "    \"\"\"\n",
    "    assert rankdir in ['LR', 'TB']\n",
    "    nodes, edges = trace(root)\n",
    "    dot = Digraph(format=format, graph_attr={'rankdir': rankdir}) #, node_attr={'rankdir': 'TB'})\n",
    "    \n",
    "    for n in nodes:\n",
    "        dot.node(name=str(id(n)), label = \"{ data %.4f | grad %.4f  }\" % (n.data , n.grad), shape='record')\n",
    "        if n._op:\n",
    "            dot.node(name=str(id(n)) + n._op, label=n._op)\n",
    "            dot.edge(str(id(n)) + n._op, str(id(n)))\n",
    "    \n",
    "    for n1, n2 in edges:\n",
    "        dot.edge(str(id(n1)), str(id(n2)) + n2._op)\n",
    "    \n",
    "    return dot\n"
   ]
  },
  {
   "cell_type": "code",
   "execution_count": 5,
   "id": "28bda33f-7621-4600-9cef-1130c4f7acf7",
   "metadata": {},
   "outputs": [
    {
     "data": {
      "image/svg+xml": [
       "<?xml version=\"1.0\" encoding=\"UTF-8\" standalone=\"no\"?>\n",
       "<!DOCTYPE svg PUBLIC \"-//W3C//DTD SVG 1.1//EN\"\n",
       " \"http://www.w3.org/Graphics/SVG/1.1/DTD/svg11.dtd\">\n",
       "<!-- Generated by graphviz version 2.43.0 (0)\n",
       " -->\n",
       "<!-- Title: %3 Pages: 1 -->\n",
       "<svg width=\"888pt\" height=\"100pt\"\n",
       " viewBox=\"0.00 0.00 887.69 100.00\" xmlns=\"http://www.w3.org/2000/svg\" xmlns:xlink=\"http://www.w3.org/1999/xlink\">\n",
       "<g id=\"graph0\" class=\"graph\" transform=\"scale(1 1) rotate(0) translate(4 96)\">\n",
       "<title>%3</title>\n",
       "<polygon fill=\"white\" stroke=\"transparent\" points=\"-4,4 -4,-96 883.69,-96 883.69,4 -4,4\"/>\n",
       "<!-- 131281648926928 -->\n",
       "<g id=\"node1\" class=\"node\">\n",
       "<title>131281648926928</title>\n",
       "<polygon fill=\"none\" stroke=\"black\" points=\"0,-55.5 0,-91.5 206,-91.5 206,-55.5 0,-55.5\"/>\n",
       "<text text-anchor=\"middle\" x=\"51\" y=\"-69.8\" font-family=\"Times,serif\" font-size=\"14.00\">data 0.5000</text>\n",
       "<polyline fill=\"none\" stroke=\"black\" points=\"102,-55.5 102,-91.5 \"/>\n",
       "<text text-anchor=\"middle\" x=\"154\" y=\"-69.8\" font-family=\"Times,serif\" font-size=\"14.00\">grad 0.7864</text>\n",
       "</g>\n",
       "<!-- 131281648927696tanh -->\n",
       "<g id=\"node6\" class=\"node\">\n",
       "<title>131281648927696tanh</title>\n",
       "<ellipse fill=\"none\" stroke=\"black\" cx=\"273.85\" cy=\"-73.5\" rx=\"31.7\" ry=\"18\"/>\n",
       "<text text-anchor=\"middle\" x=\"273.85\" y=\"-69.8\" font-family=\"Times,serif\" font-size=\"14.00\">tanh</text>\n",
       "</g>\n",
       "<!-- 131281648926928&#45;&gt;131281648927696tanh -->\n",
       "<g id=\"edge3\" class=\"edge\">\n",
       "<title>131281648926928&#45;&gt;131281648927696tanh</title>\n",
       "<path fill=\"none\" stroke=\"black\" d=\"M206.11,-73.5C215.1,-73.5 223.8,-73.5 231.79,-73.5\"/>\n",
       "<polygon fill=\"black\" stroke=\"black\" points=\"231.85,-77 241.85,-73.5 231.85,-70 231.85,-77\"/>\n",
       "</g>\n",
       "<!-- 131281648927024 -->\n",
       "<g id=\"node2\" class=\"node\">\n",
       "<title>131281648927024</title>\n",
       "<polygon fill=\"none\" stroke=\"black\" points=\"341.69,-0.5 341.69,-36.5 547.69,-36.5 547.69,-0.5 341.69,-0.5\"/>\n",
       "<text text-anchor=\"middle\" x=\"392.69\" y=\"-14.8\" font-family=\"Times,serif\" font-size=\"14.00\">data 3.0000</text>\n",
       "<polyline fill=\"none\" stroke=\"black\" points=\"443.69,-0.5 443.69,-36.5 \"/>\n",
       "<text text-anchor=\"middle\" x=\"495.69\" y=\"-14.8\" font-family=\"Times,serif\" font-size=\"14.00\">grad 1.0000</text>\n",
       "</g>\n",
       "<!-- 131281648927552+ -->\n",
       "<g id=\"node4\" class=\"node\">\n",
       "<title>131281648927552+</title>\n",
       "<ellipse fill=\"none\" stroke=\"black\" cx=\"610.69\" cy=\"-45.5\" rx=\"27\" ry=\"18\"/>\n",
       "<text text-anchor=\"middle\" x=\"610.69\" y=\"-41.8\" font-family=\"Times,serif\" font-size=\"14.00\">+</text>\n",
       "</g>\n",
       "<!-- 131281648927024&#45;&gt;131281648927552+ -->\n",
       "<g id=\"edge5\" class=\"edge\">\n",
       "<title>131281648927024&#45;&gt;131281648927552+</title>\n",
       "<path fill=\"none\" stroke=\"black\" d=\"M548.16,-35.37C557.43,-36.9 566.34,-38.36 574.35,-39.68\"/>\n",
       "<polygon fill=\"black\" stroke=\"black\" points=\"573.89,-43.15 584.32,-41.32 575.02,-36.24 573.89,-43.15\"/>\n",
       "</g>\n",
       "<!-- 131281648927552 -->\n",
       "<g id=\"node3\" class=\"node\">\n",
       "<title>131281648927552</title>\n",
       "<polygon fill=\"none\" stroke=\"black\" points=\"673.69,-27.5 673.69,-63.5 879.69,-63.5 879.69,-27.5 673.69,-27.5\"/>\n",
       "<text text-anchor=\"middle\" x=\"724.69\" y=\"-41.8\" font-family=\"Times,serif\" font-size=\"14.00\">data 3.4621</text>\n",
       "<polyline fill=\"none\" stroke=\"black\" points=\"775.69,-27.5 775.69,-63.5 \"/>\n",
       "<text text-anchor=\"middle\" x=\"827.69\" y=\"-41.8\" font-family=\"Times,serif\" font-size=\"14.00\">grad 1.0000</text>\n",
       "</g>\n",
       "<!-- 131281648927552+&#45;&gt;131281648927552 -->\n",
       "<g id=\"edge1\" class=\"edge\">\n",
       "<title>131281648927552+&#45;&gt;131281648927552</title>\n",
       "<path fill=\"none\" stroke=\"black\" d=\"M638.04,-45.5C645.49,-45.5 654.1,-45.5 663.3,-45.5\"/>\n",
       "<polygon fill=\"black\" stroke=\"black\" points=\"663.49,-49 673.49,-45.5 663.49,-42 663.49,-49\"/>\n",
       "</g>\n",
       "<!-- 131281648927696 -->\n",
       "<g id=\"node5\" class=\"node\">\n",
       "<title>131281648927696</title>\n",
       "<polygon fill=\"none\" stroke=\"black\" points=\"341.69,-55.5 341.69,-91.5 547.69,-91.5 547.69,-55.5 341.69,-55.5\"/>\n",
       "<text text-anchor=\"middle\" x=\"392.69\" y=\"-69.8\" font-family=\"Times,serif\" font-size=\"14.00\">data 0.4621</text>\n",
       "<polyline fill=\"none\" stroke=\"black\" points=\"443.69,-55.5 443.69,-91.5 \"/>\n",
       "<text text-anchor=\"middle\" x=\"495.69\" y=\"-69.8\" font-family=\"Times,serif\" font-size=\"14.00\">grad 1.0000</text>\n",
       "</g>\n",
       "<!-- 131281648927696&#45;&gt;131281648927552+ -->\n",
       "<g id=\"edge4\" class=\"edge\">\n",
       "<title>131281648927696&#45;&gt;131281648927552+</title>\n",
       "<path fill=\"none\" stroke=\"black\" d=\"M548.16,-56.01C557.43,-54.42 566.34,-52.9 574.35,-51.54\"/>\n",
       "<polygon fill=\"black\" stroke=\"black\" points=\"575.05,-54.97 584.32,-49.83 573.87,-48.07 575.05,-54.97\"/>\n",
       "</g>\n",
       "<!-- 131281648927696tanh&#45;&gt;131281648927696 -->\n",
       "<g id=\"edge2\" class=\"edge\">\n",
       "<title>131281648927696tanh&#45;&gt;131281648927696</title>\n",
       "<path fill=\"none\" stroke=\"black\" d=\"M305.82,-73.5C313.51,-73.5 322.2,-73.5 331.4,-73.5\"/>\n",
       "<polygon fill=\"black\" stroke=\"black\" points=\"331.54,-77 341.54,-73.5 331.54,-70 331.54,-77\"/>\n",
       "</g>\n",
       "</g>\n",
       "</svg>\n"
      ],
      "text/plain": [
       "<graphviz.graphs.Digraph at 0x7766640cfcd0>"
      ]
     },
     "execution_count": 5,
     "metadata": {},
     "output_type": "execute_result"
    }
   ],
   "source": [
    "f.setgrad()\n",
    "draw_dot(f)"
   ]
  },
  {
   "cell_type": "code",
   "execution_count": 6,
   "id": "c673c4af-30e7-4027-9789-6766a9279f7a",
   "metadata": {},
   "outputs": [],
   "source": [
    "# starting to write neural network code "
   ]
  },
  {
   "cell_type": "code",
   "execution_count": 7,
   "id": "a7cf25be-925a-4b26-aed2-970bcdf64437",
   "metadata": {},
   "outputs": [],
   "source": [
    "import random"
   ]
  },
  {
   "cell_type": "code",
   "execution_count": 8,
   "id": "341b298d-4508-4a3d-a93c-fb4b682005a0",
   "metadata": {},
   "outputs": [],
   "source": [
    "def w_matrix(nout, nin):\n",
    "    # Create a matrix of size nout x nin with Value objects containing random data\n",
    "    matrix = np.empty((nout, nin), dtype=object)\n",
    "    for i in range(nout):\n",
    "        for j in range(nin):\n",
    "            matrix[i, j] = Value(random.uniform(-1, 1))\n",
    "    return matrix\n",
    "\n",
    "\n",
    "def b_matrix(nout, nin):\n",
    "    # Create a vector of size nout with Value objects containing random data\n",
    "    vector = [Value(random.uniform(-1, 1)) for _ in range(nin)]\n",
    "    \n",
    "    # Create a matrix of size nout x nin with elements in the same column being the same\n",
    "    matrix = np.array([[vector[j] for j in range(nin)] for _ in range(nout)])\n",
    "    return matrix"
   ]
  },
  {
   "cell_type": "code",
   "execution_count": 9,
   "id": "f48d1e7c-a207-4b11-82f1-42761ab54be0",
   "metadata": {},
   "outputs": [
    {
     "data": {
      "text/plain": [
       "20"
      ]
     },
     "execution_count": 9,
     "metadata": {},
     "output_type": "execute_result"
    }
   ],
   "source": [
    "w = w_matrix(3,4)\n",
    "b = b_matrix(2,4)\n",
    "x = [param for row in w for param in row] + [param for row in b for param in row]\n",
    "len(x)"
   ]
  },
  {
   "cell_type": "code",
   "execution_count": 75,
   "id": "de9bf343-ea57-407d-9047-bc6ad713fc5f",
   "metadata": {},
   "outputs": [],
   "source": [
    "class Layer():\n",
    "    def __init__(self, nin, nout, m , nonlin= True):\n",
    "        self.w = w_matrix(nin,nout)\n",
    "        self.b = b_matrix(m,nout)\n",
    "        self.nonlin = nonlin\n",
    "\n",
    "\n",
    "    def __call__(self, x):\n",
    "        # print(f\"weight {self.w}\")\n",
    "        # print(f\"x {x}\")\n",
    "        # print(f\"b {self.b}\")\n",
    "        act = np.dot(x , (self.w) ) + self.b\n",
    "        # print(f\" act {act}\")\n",
    "        out = np.vectorize(lambda v: v.tanh())(act)\n",
    "        # print(f\" out {out}\")\n",
    "        return out if self.nonlin else act\n",
    "\n",
    "\n",
    "    def parameters(self):\n",
    "        return [param for row in self.w for param in row] + [param for row in self.b for param in row]\n",
    "\n",
    "class MLP():\n",
    "\n",
    "    def __init__(self, nin, nouts,m):\n",
    "        sz = [nin] + nouts\n",
    "        self.layers = [\n",
    "            Layer(sz[i], sz[i+1], m , nonlin=i != len(nouts) - 1)\n",
    "            for i in range(len(nouts))\n",
    "        ]\n",
    "\n",
    "    def __call__(self, x):\n",
    "        for layer in self.layers:\n",
    "            x = layer(x)\n",
    "        return x\n",
    "\n",
    "    def parameters(self):\n",
    "        return [p for n in self.layers for p in n.parameters()]"
   ]
  },
  {
   "cell_type": "code",
   "execution_count": 76,
   "id": "67c9db5b-aa71-4a61-b687-e08367aa16d6",
   "metadata": {},
   "outputs": [],
   "source": [
    "def pairwise_mse_loss(array1, array2):\n",
    "    \"\"\"Calculate the pairwise mean squared error (MSE) loss between two 1xM arrays of Value objects.\"\"\"\n",
    "    assert array1.shape == array2.shape , \"Arrays must have the same shape (1, m)\"\n",
    "    # print(f\" 1 {array1}\")\n",
    "    # print(f\" 2 {array2}\")\n",
    "   \n",
    "    squared_diff = (array1 - array2) ** 2\n",
    "    # print(f\" 3 {squared_diff}\")\n",
    "    # Calculate sum of squared differences\n",
    "    mse_loss_sum = np.sum(squared_diff)\n",
    "    # print(f\" 4 {mse_loss_sum}\")\n",
    "    return mse_loss_sum\n",
    "\n"
   ]
  },
  {
   "cell_type": "code",
   "execution_count": 77,
   "id": "4ceb2e79-0960-42e5-a6e7-105c5ed3e842",
   "metadata": {},
   "outputs": [],
   "source": [
    "xs = np.array([[2.0, 3.0, -1.0],\n",
    "               [3.0, -1.0, 0.5],\n",
    "               [0.5, 1.0, 1.0],\n",
    "               [1.0, 1.0, -1.0]])\n",
    "\n",
    "# xs = np.array([[2.0, 3.0]])\n",
    "\n",
    "value_xs = np.vectorize(Value)(xs)\n",
    "ys = np.array([[1.0],[-1.0],[-1.0],[1.0]])\n",
    "value_ys = np.vectorize(Value)(ys)\n",
    "n = MLP(3,[4 , 4 , 1] , 4)\n",
    "# n = MLP(2,[1, 1] , 1)\n",
    "\n",
    "# print(len(n.parameters()))\n",
    "# n(value_xs)\n",
    "# x_final = n(value_xs)\n",
    "# loss = pairwise_mse_loss(value_ys, x_final)\n",
    "# loss.setgrad()\n",
    "# draw_dot(loss)\n",
    "\n",
    "# for p in n.parameters():\n",
    "#     p.data += -0.1 * p.grad\n",
    "\n",
    "\n",
    "\n",
    "# for p in n.parameters():\n",
    "#     len(n.parameters())\n",
    "#     print(p.data)\n",
    "# x_final = n(value_xs)\n",
    "# print(x_final)\n",
    "\n",
    "\n",
    "\n",
    "# print(value_ys.shape)\n",
    "# loss = pairwise_mse_loss(value_ys, x_final)\n",
    "\n",
    "\n"
   ]
  },
  {
   "cell_type": "code",
   "execution_count": 57,
   "id": "f19729eb-0d56-4292-8bcd-ec3c065b2f61",
   "metadata": {},
   "outputs": [],
   "source": [
    "for p in n.parameters():\n",
    "    p.data += -0.1 * p.grad"
   ]
  },
  {
   "cell_type": "code",
   "execution_count": 58,
   "id": "a7954378-9cbb-4f76-bed2-a6cff147d03c",
   "metadata": {},
   "outputs": [
    {
     "name": "stdout",
     "output_type": "stream",
     "text": [
      "Value (data=-0.13646244655528972)\n",
      "Value (data=-0.5181276132896446)\n",
      "Value (data=-0.21940250356289903)\n",
      "Value (data=-0.18245208335833496)\n",
      "Value (data=0.5350950918090294)\n"
     ]
    }
   ],
   "source": [
    "for p in n.parameters():\n",
    "    print(p)"
   ]
  },
  {
   "cell_type": "code",
   "execution_count": 59,
   "id": "734fd394-83a5-4e21-94a4-63e363686608",
   "metadata": {},
   "outputs": [
    {
     "data": {
      "text/plain": [
       "0.83181"
      ]
     },
     "execution_count": 59,
     "metadata": {},
     "output_type": "execute_result"
    }
   ],
   "source": [
    "0.8323 - (0.1 * 0.0049)"
   ]
  },
  {
   "cell_type": "code",
   "execution_count": 52,
   "id": "6f502176-366a-4e46-822d-35adb0c65152",
   "metadata": {},
   "outputs": [
    {
     "data": {
      "text/plain": [
       "-0.04964"
      ]
     },
     "execution_count": 52,
     "metadata": {},
     "output_type": "execute_result"
    }
   ],
   "source": [
    "-0.0489 -0.1*0.0074"
   ]
  },
  {
   "cell_type": "code",
   "execution_count": 35,
   "id": "aee9858d-96dc-4426-81e7-673edd871ba8",
   "metadata": {},
   "outputs": [
    {
     "data": {
      "text/plain": [
       "0.3941114"
      ]
     },
     "execution_count": 35,
     "metadata": {},
     "output_type": "execute_result"
    }
   ],
   "source": [
    "-0.8380 * -0.4703"
   ]
  },
  {
   "cell_type": "code",
   "execution_count": 29,
   "id": "2d8758c2-d405-46f2-a14a-13ac0e78f160",
   "metadata": {},
   "outputs": [],
   "source": [
    "# loss.setgrad()\n",
    "# draw_dot(loss)"
   ]
  },
  {
   "cell_type": "code",
   "execution_count": 78,
   "id": "346d40f2-4762-4691-ba08-cea84dc97944",
   "metadata": {},
   "outputs": [
    {
     "name": "stdout",
     "output_type": "stream",
     "text": [
      "0 1.8139187956589735\n",
      "1 21.14612886506667\n",
      "2 18.31593643389798\n",
      "3 35.698080136795625\n",
      "4 20.53824474476196\n",
      "5 1620.4152470414276\n",
      "6 23075603734102.312\n",
      "7 6.676222498343837e+60\n",
      "8 4.0480084680712865e+299\n",
      "9 nan\n",
      "10 nan\n",
      "11 nan\n",
      "12 nan\n",
      "13 nan\n",
      "14 nan\n",
      "15 nan\n",
      "16 nan\n",
      "17 nan\n",
      "18 nan\n",
      "19 nan\n"
     ]
    }
   ],
   "source": [
    "for k in range(20):\n",
    "    #forward pass\n",
    "    x_final = n(value_xs)\n",
    "    loss = pairwise_mse_loss(value_ys, x_final)\n",
    "    \n",
    "\n",
    "    #backward pass\n",
    "    loss.setgrad()    \n",
    "\n",
    "    #update\n",
    "    for p in n.parameters():\n",
    "        p.data += -0.05 * p.grad\n",
    "\n",
    "    print(k , loss.data)"
   ]
  },
  {
   "cell_type": "code",
   "execution_count": 69,
   "id": "82e5afe8-45d2-4bdc-a697-4efe2ceb144c",
   "metadata": {},
   "outputs": [
    {
     "data": {
      "text/plain": [
       "2.4664796730089997"
      ]
     },
     "execution_count": 69,
     "metadata": {},
     "output_type": "execute_result"
    }
   ],
   "source": [
    "(1+0.570503)**2"
   ]
  },
  {
   "cell_type": "code",
   "execution_count": null,
   "id": "0fb8788e-042c-4457-b2fa-0ddc811d7d39",
   "metadata": {},
   "outputs": [],
   "source": []
  }
 ],
 "metadata": {
  "kernelspec": {
   "display_name": "Python 3 (ipykernel)",
   "language": "python",
   "name": "python3"
  },
  "language_info": {
   "codemirror_mode": {
    "name": "ipython",
    "version": 3
   },
   "file_extension": ".py",
   "mimetype": "text/x-python",
   "name": "python",
   "nbconvert_exporter": "python",
   "pygments_lexer": "ipython3",
   "version": "3.10.12"
  }
 },
 "nbformat": 4,
 "nbformat_minor": 5
}
